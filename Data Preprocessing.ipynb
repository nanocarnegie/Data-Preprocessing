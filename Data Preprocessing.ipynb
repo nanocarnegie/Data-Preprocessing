{
 "cells": [
  {
   "cell_type": "code",
   "execution_count": 1,
   "id": "b367b3cf",
   "metadata": {},
   "outputs": [],
   "source": [
    "import numpy as np\n",
    "import pandas as pd\n",
    "import matplotlib.pyplot as plt"
   ]
  },
  {
   "cell_type": "code",
   "execution_count": 2,
   "id": "f8f096d0",
   "metadata": {},
   "outputs": [],
   "source": [
    "dataset = pd.read_csv(\"New Data.csv\")"
   ]
  },
  {
   "cell_type": "code",
   "execution_count": 3,
   "id": "f99815e5",
   "metadata": {},
   "outputs": [
    {
     "data": {
      "text/html": [
       "<div>\n",
       "<style scoped>\n",
       "    .dataframe tbody tr th:only-of-type {\n",
       "        vertical-align: middle;\n",
       "    }\n",
       "\n",
       "    .dataframe tbody tr th {\n",
       "        vertical-align: top;\n",
       "    }\n",
       "\n",
       "    .dataframe thead th {\n",
       "        text-align: right;\n",
       "    }\n",
       "</style>\n",
       "<table border=\"1\" class=\"dataframe\">\n",
       "  <thead>\n",
       "    <tr style=\"text-align: right;\">\n",
       "      <th></th>\n",
       "      <th>Country</th>\n",
       "      <th>Age</th>\n",
       "      <th>Salary</th>\n",
       "      <th>Purchased</th>\n",
       "    </tr>\n",
       "  </thead>\n",
       "  <tbody>\n",
       "    <tr>\n",
       "      <th>0</th>\n",
       "      <td>Belgium</td>\n",
       "      <td>54.0</td>\n",
       "      <td>77000.0</td>\n",
       "      <td>No</td>\n",
       "    </tr>\n",
       "    <tr>\n",
       "      <th>1</th>\n",
       "      <td>Portugal</td>\n",
       "      <td>37.0</td>\n",
       "      <td>53000.0</td>\n",
       "      <td>Yes</td>\n",
       "    </tr>\n",
       "    <tr>\n",
       "      <th>2</th>\n",
       "      <td>Germany</td>\n",
       "      <td>40.0</td>\n",
       "      <td>59000.0</td>\n",
       "      <td>No</td>\n",
       "    </tr>\n",
       "    <tr>\n",
       "      <th>3</th>\n",
       "      <td>Portugal</td>\n",
       "      <td>48.0</td>\n",
       "      <td>66000.0</td>\n",
       "      <td>No</td>\n",
       "    </tr>\n",
       "    <tr>\n",
       "      <th>4</th>\n",
       "      <td>Germany</td>\n",
       "      <td>50.0</td>\n",
       "      <td>NaN</td>\n",
       "      <td>Yes</td>\n",
       "    </tr>\n",
       "    <tr>\n",
       "      <th>5</th>\n",
       "      <td>Belgium</td>\n",
       "      <td>45.0</td>\n",
       "      <td>63000.0</td>\n",
       "      <td>Yes</td>\n",
       "    </tr>\n",
       "    <tr>\n",
       "      <th>6</th>\n",
       "      <td>Portugal</td>\n",
       "      <td>NaN</td>\n",
       "      <td>57000.0</td>\n",
       "      <td>No</td>\n",
       "    </tr>\n",
       "    <tr>\n",
       "      <th>7</th>\n",
       "      <td>Belgium</td>\n",
       "      <td>58.0</td>\n",
       "      <td>84000.0</td>\n",
       "      <td>Yes</td>\n",
       "    </tr>\n",
       "    <tr>\n",
       "      <th>8</th>\n",
       "      <td>Germany</td>\n",
       "      <td>60.0</td>\n",
       "      <td>88000.0</td>\n",
       "      <td>No</td>\n",
       "    </tr>\n",
       "    <tr>\n",
       "      <th>9</th>\n",
       "      <td>Portugal</td>\n",
       "      <td>47.0</td>\n",
       "      <td>72000.0</td>\n",
       "      <td>Yes</td>\n",
       "    </tr>\n",
       "  </tbody>\n",
       "</table>\n",
       "</div>"
      ],
      "text/plain": [
       "    Country   Age   Salary Purchased\n",
       "0   Belgium  54.0  77000.0        No\n",
       "1  Portugal  37.0  53000.0       Yes\n",
       "2   Germany  40.0  59000.0        No\n",
       "3  Portugal  48.0  66000.0        No\n",
       "4   Germany  50.0      NaN       Yes\n",
       "5   Belgium  45.0  63000.0       Yes\n",
       "6  Portugal   NaN  57000.0        No\n",
       "7   Belgium  58.0  84000.0       Yes\n",
       "8   Germany  60.0  88000.0        No\n",
       "9  Portugal  47.0  72000.0       Yes"
      ]
     },
     "execution_count": 3,
     "metadata": {},
     "output_type": "execute_result"
    }
   ],
   "source": [
    "dataset"
   ]
  },
  {
   "cell_type": "code",
   "execution_count": 4,
   "id": "ecce3b77",
   "metadata": {},
   "outputs": [],
   "source": [
    "#Assigning already the feature and label columns\n",
    "\n",
    "x = dataset.iloc[: , :-1]\n",
    "y = dataset.iloc[:, -1]"
   ]
  },
  {
   "cell_type": "code",
   "execution_count": 5,
   "id": "58babf94",
   "metadata": {},
   "outputs": [
    {
     "name": "stdout",
     "output_type": "stream",
     "text": [
      "    Country   Age   Salary\n",
      "0   Belgium  54.0  77000.0\n",
      "1  Portugal  37.0  53000.0\n",
      "2   Germany  40.0  59000.0\n",
      "3  Portugal  48.0  66000.0\n",
      "4   Germany  50.0      NaN\n",
      "5   Belgium  45.0  63000.0\n",
      "6  Portugal   NaN  57000.0\n",
      "7   Belgium  58.0  84000.0\n",
      "8   Germany  60.0  88000.0\n",
      "9  Portugal  47.0  72000.0\n",
      "\n",
      "\n",
      "0     No\n",
      "1    Yes\n",
      "2     No\n",
      "3     No\n",
      "4    Yes\n",
      "5    Yes\n",
      "6     No\n",
      "7    Yes\n",
      "8     No\n",
      "9    Yes\n",
      "Name: Purchased, dtype: object\n"
     ]
    }
   ],
   "source": [
    "print(x)\n",
    "print(\"\\n\")\n",
    "print(y)"
   ]
  },
  {
   "cell_type": "code",
   "execution_count": 6,
   "id": "fce57bb0",
   "metadata": {},
   "outputs": [
    {
     "data": {
      "text/plain": [
       "Country      0\n",
       "Age          1\n",
       "Salary       1\n",
       "Purchased    0\n",
       "dtype: int64"
      ]
     },
     "execution_count": 6,
     "metadata": {},
     "output_type": "execute_result"
    }
   ],
   "source": [
    "dataset.isnull().sum()"
   ]
  },
  {
   "cell_type": "code",
   "execution_count": 7,
   "id": "59a00225",
   "metadata": {},
   "outputs": [],
   "source": [
    "#A few missing data to be taken care of, to avoid error in our networks\n",
    "\n",
    "from sklearn.impute import SimpleImputer"
   ]
  },
  {
   "cell_type": "code",
   "execution_count": 8,
   "id": "5d04fbc8",
   "metadata": {},
   "outputs": [],
   "source": [
    "imputer = SimpleImputer(missing_values = np.nan, strategy = \"mean\")  #replacing missing values with mean of each numerical column\n",
    "imputer.fit(x.iloc[:, 1:3])\n",
    "x.iloc[:, 1:3] = imputer.transform(x.iloc[:, 1:3])"
   ]
  },
  {
   "cell_type": "code",
   "execution_count": 9,
   "id": "b455660a",
   "metadata": {},
   "outputs": [
    {
     "name": "stdout",
     "output_type": "stream",
     "text": [
      "    Country        Age        Salary\n",
      "0   Belgium  54.000000  77000.000000\n",
      "1  Portugal  37.000000  53000.000000\n",
      "2   Germany  40.000000  59000.000000\n",
      "3  Portugal  48.000000  66000.000000\n",
      "4   Germany  50.000000  68777.777778\n",
      "5   Belgium  45.000000  63000.000000\n",
      "6  Portugal  48.777778  57000.000000\n",
      "7   Belgium  58.000000  84000.000000\n",
      "8   Germany  60.000000  88000.000000\n",
      "9  Portugal  47.000000  72000.000000\n"
     ]
    }
   ],
   "source": [
    "print(x)"
   ]
  },
  {
   "cell_type": "code",
   "execution_count": 10,
   "id": "ad607178",
   "metadata": {},
   "outputs": [],
   "source": [
    "#Let's create binary vectors for the categorical colum by one-hot encoding\n",
    "\n",
    "from sklearn.compose import ColumnTransformer\n",
    "from sklearn.preprocessing import OneHotEncoder"
   ]
  },
  {
   "cell_type": "code",
   "execution_count": 11,
   "id": "e45fa685",
   "metadata": {},
   "outputs": [],
   "source": [
    "ct = ColumnTransformer(transformers = [(\"encoder\", OneHotEncoder(), [0])], remainder = \"passthrough\")"
   ]
  },
  {
   "cell_type": "code",
   "execution_count": 12,
   "id": "b9365618",
   "metadata": {},
   "outputs": [],
   "source": [
    "x = np.array(ct.fit_transform(x))"
   ]
  },
  {
   "cell_type": "code",
   "execution_count": 13,
   "id": "50a4a040",
   "metadata": {},
   "outputs": [
    {
     "name": "stdout",
     "output_type": "stream",
     "text": [
      "[[1.00000000e+00 0.00000000e+00 0.00000000e+00 5.40000000e+01\n",
      "  7.70000000e+04]\n",
      " [0.00000000e+00 0.00000000e+00 1.00000000e+00 3.70000000e+01\n",
      "  5.30000000e+04]\n",
      " [0.00000000e+00 1.00000000e+00 0.00000000e+00 4.00000000e+01\n",
      "  5.90000000e+04]\n",
      " [0.00000000e+00 0.00000000e+00 1.00000000e+00 4.80000000e+01\n",
      "  6.60000000e+04]\n",
      " [0.00000000e+00 1.00000000e+00 0.00000000e+00 5.00000000e+01\n",
      "  6.87777778e+04]\n",
      " [1.00000000e+00 0.00000000e+00 0.00000000e+00 4.50000000e+01\n",
      "  6.30000000e+04]\n",
      " [0.00000000e+00 0.00000000e+00 1.00000000e+00 4.87777778e+01\n",
      "  5.70000000e+04]\n",
      " [1.00000000e+00 0.00000000e+00 0.00000000e+00 5.80000000e+01\n",
      "  8.40000000e+04]\n",
      " [0.00000000e+00 1.00000000e+00 0.00000000e+00 6.00000000e+01\n",
      "  8.80000000e+04]\n",
      " [0.00000000e+00 0.00000000e+00 1.00000000e+00 4.70000000e+01\n",
      "  7.20000000e+04]]\n"
     ]
    }
   ],
   "source": [
    "print(x)"
   ]
  },
  {
   "cell_type": "code",
   "execution_count": 14,
   "id": "dca4eac1",
   "metadata": {},
   "outputs": [],
   "source": [
    "#The dependent variable requires similar encoding\n",
    "\n",
    "from sklearn.preprocessing import LabelEncoder\n",
    "\n",
    "label = LabelEncoder()\n",
    "\n",
    "y = label.fit_transform(y)"
   ]
  },
  {
   "cell_type": "code",
   "execution_count": 15,
   "id": "f84e2961",
   "metadata": {},
   "outputs": [
    {
     "name": "stdout",
     "output_type": "stream",
     "text": [
      "[0 1 0 0 1 1 0 1 0 1]\n"
     ]
    }
   ],
   "source": [
    "print(y)"
   ]
  },
  {
   "cell_type": "code",
   "execution_count": 16,
   "id": "c1960b05",
   "metadata": {},
   "outputs": [],
   "source": [
    "#Our features and label now seems to be ready to be passed into the network\n",
    "\n",
    "from sklearn.model_selection import train_test_split"
   ]
  },
  {
   "cell_type": "code",
   "execution_count": 17,
   "id": "10c80f7f",
   "metadata": {},
   "outputs": [],
   "source": [
    "x_train, x_test, y_train, y_test = train_test_split(x, y, test_size=0.2, random_state=1)"
   ]
  },
  {
   "cell_type": "code",
   "execution_count": 18,
   "id": "07293ddc",
   "metadata": {},
   "outputs": [],
   "source": [
    "#Since we will be building a neural network, it could be important to do a bit of standard scaling to our features\n",
    "\n",
    "from sklearn.preprocessing import StandardScaler\n",
    "scaler = StandardScaler()"
   ]
  },
  {
   "cell_type": "code",
   "execution_count": 19,
   "id": "cb32e531",
   "metadata": {},
   "outputs": [
    {
     "name": "stdout",
     "output_type": "stream",
     "text": [
      "[[0.00000000e+00 0.00000000e+00 1.00000000e+00 4.87777778e+01\n",
      "  5.70000000e+04]\n",
      " [0.00000000e+00 1.00000000e+00 0.00000000e+00 5.00000000e+01\n",
      "  6.87777778e+04]\n",
      " [1.00000000e+00 0.00000000e+00 0.00000000e+00 5.40000000e+01\n",
      "  7.70000000e+04]\n",
      " [0.00000000e+00 0.00000000e+00 1.00000000e+00 4.80000000e+01\n",
      "  6.60000000e+04]\n",
      " [0.00000000e+00 0.00000000e+00 1.00000000e+00 3.70000000e+01\n",
      "  5.30000000e+04]\n",
      " [1.00000000e+00 0.00000000e+00 0.00000000e+00 5.80000000e+01\n",
      "  8.40000000e+04]\n",
      " [0.00000000e+00 1.00000000e+00 0.00000000e+00 6.00000000e+01\n",
      "  8.80000000e+04]\n",
      " [1.00000000e+00 0.00000000e+00 0.00000000e+00 4.50000000e+01\n",
      "  6.30000000e+04]]\n"
     ]
    }
   ],
   "source": [
    "print(x_train)"
   ]
  },
  {
   "cell_type": "code",
   "execution_count": 20,
   "id": "63b5f97f",
   "metadata": {},
   "outputs": [],
   "source": [
    "x_train[: , 3:] = scaler.fit_transform(x_train[: , 3:])\n",
    "x_test[: , 3:] = scaler.transform(x_test[: , 3:])"
   ]
  },
  {
   "cell_type": "code",
   "execution_count": 21,
   "id": "61359e18",
   "metadata": {},
   "outputs": [
    {
     "name": "stdout",
     "output_type": "stream",
     "text": [
      "[[ 0.          0.          1.         -0.19159184 -1.07812594]\n",
      " [ 0.          1.          0.         -0.01411729 -0.07013168]\n",
      " [ 1.          0.          0.          0.56670851  0.63356243]\n",
      " [ 0.          0.          1.         -0.30453019 -0.30786617]\n",
      " [ 0.          0.          1.         -1.90180114 -1.42046362]\n",
      " [ 1.          0.          0.          1.14753431  1.23265336]\n",
      " [ 0.          1.          0.          1.43794721  1.57499104]\n",
      " [ 1.          0.          0.         -0.74014954 -0.56461943]]\n"
     ]
    }
   ],
   "source": [
    "print(x_train)"
   ]
  },
  {
   "cell_type": "markdown",
   "id": "7c026733",
   "metadata": {},
   "source": [
    "##### Our dataset now ready to be passed into a neural network model"
   ]
  }
 ],
 "metadata": {
  "kernelspec": {
   "display_name": "Python 3 (ipykernel)",
   "language": "python",
   "name": "python3"
  },
  "language_info": {
   "codemirror_mode": {
    "name": "ipython",
    "version": 3
   },
   "file_extension": ".py",
   "mimetype": "text/x-python",
   "name": "python",
   "nbconvert_exporter": "python",
   "pygments_lexer": "ipython3",
   "version": "3.9.13"
  }
 },
 "nbformat": 4,
 "nbformat_minor": 5
}
